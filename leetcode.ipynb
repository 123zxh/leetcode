{
 "cells": [
  {
   "cell_type": "markdown",
   "metadata": {},
   "source": [
    "10. Regular Expression Matching  \n",
    "  \n",
    "$\\_isMatch(i, j) = \\text{s[1..i] matches p[1..j]}$"
   ]
  },
  {
   "cell_type": "code",
   "execution_count": 20,
   "metadata": {},
   "outputs": [
    {
     "name": "stdout",
     "output_type": "stream",
     "text": [
      "True\n"
     ]
    }
   ],
   "source": [
    "def isMatch(s, p):\n",
    "    _isMatch = [[False] * (len(p)+1) for _ in range(len(s)+1)]\n",
    "    \n",
    "    # the empty string matches the empty pattern.\n",
    "    _isMatch[0][0] = True\n",
    "    \n",
    "    # fill in the first row and first column:\n",
    "    # first column should be Falses except for the [0][0] position because empty pattern can't match any string.\n",
    "    for j in range(1, len(p), 2):\n",
    "        if p[j] == '*':\n",
    "            _isMatch[0][j+1] = _isMatch[0][j-1]\n",
    "    \n",
    "    for i in range(1, len(s)+1):\n",
    "        for j in range(1, len(p)+1):\n",
    "            if p[j-1] != '*':\n",
    "                if s[i-1] == p[j-1] or p[j-1] == '.':\n",
    "                    _isMatch[i][j] = _isMatch[i-1][j-1]\n",
    "            else:\n",
    "                _isMatch[i][j] = _isMatch[i][j-2] or (_isMatch[i-1][j] and (s[i-1] == p[j-2] or p[j-2] == '.'))\n",
    "                \n",
    "    return _isMatch[len(s)][len(p)]\n",
    "\n",
    "print(isMatch('aa', 'a*'))"
   ]
  },
  {
   "cell_type": "markdown",
   "metadata": {},
   "source": [
    "102. Binary Tree Level Order Traversal"
   ]
  },
  {
   "cell_type": "code",
   "execution_count": null,
   "metadata": {},
   "outputs": [],
   "source": [
    "# Definition for a binary tree node.\n",
    "class TreeNode:\n",
    "    def __init__(self, x):\n",
    "        self.val = x\n",
    "        self.left = None\n",
    "        self.right = None\n",
    "\n",
    "from collections import deque\n",
    "class Solution:\n",
    "    def levelOrder(self, root):\n",
    "        result = []\n",
    "        self.dfs(result, root, 0)\n",
    "        return result\n",
    "       \n",
    "    def dfs(self, result, root, level):\n",
    "        if root is None:\n",
    "            return result\n",
    "        if level == len(result):\n",
    "            result.append([])\n",
    "        result[level].append(root.val)\n",
    "        self.dfs(result, root.left, level+1)\n",
    "        self.dfs(result, root.right, level+1)\n",
    "        \n",
    "        \n",
    "    def levelOrder_BFS(self, root):\n",
    "        \"\"\"\n",
    "        :type root: TreeNode\n",
    "        :rtype: List[List[int]]\n",
    "        \"\"\"\n",
    "        # BFS (queue)\n",
    "        if root is None:\n",
    "            return []\n",
    "        q = deque([root])\n",
    "        result = []\n",
    "        while len(q) > 0:\n",
    "            level = []\n",
    "            for _ in range(len(q)):\n",
    "                level_node = q.popleft()\n",
    "                if level_node.left is not None:\n",
    "                    q.append(level_node.left)\n",
    "                if level_node.right is not None:\n",
    "                    q.append(level_node.right)\n",
    "                level.append(level_node.val)\n",
    "            result.append(level)\n",
    "        return result"
   ]
  },
  {
   "cell_type": "markdown",
   "metadata": {},
   "source": [
    "MergeSort  \n",
    "time complexity: $T(n) = 2(T(n/2)) + O(n)$ => $O(nlog_2n)$"
   ]
  },
  {
   "cell_type": "code",
   "execution_count": 52,
   "metadata": {},
   "outputs": [
    {
     "data": {
      "text/plain": [
       "[1, 2, 2, 3, 3, 4, 4, 5, 5, 6, 6, 34, 34, 65, 432]"
      ]
     },
     "execution_count": 52,
     "metadata": {},
     "output_type": "execute_result"
    }
   ],
   "source": [
    "def MergeSort(lst):\n",
    "    if len(lst) > 1:\n",
    "        m = len(lst)//2\n",
    "        left_sorted = MergeSort(lst[:m]) # sort indices [0..m-1]\n",
    "        right_sorted = MergeSort(lst[m:]) # sort indices [m..len(lst)-1]\n",
    "\n",
    "        # Merge left and right half\n",
    "        i, j, k = 0, 0, 0\n",
    "        while i < len(left_sorted) and j < len(right_sorted):\n",
    "            if left_sorted[i] < right_sorted[j]:\n",
    "                lst[k] = left_sorted[i]\n",
    "                i += 1\n",
    "            else:\n",
    "                lst[k] = right_sorted[j]\n",
    "                j += 1\n",
    "            k += 1\n",
    "\n",
    "        while j < len(right_sorted):\n",
    "            lst[k] = right_sorted[j]\n",
    "            k += 1\n",
    "            j += 1\n",
    "        \n",
    "        while i < len(left_sorted):\n",
    "            lst[k] = left_sorted[i]\n",
    "            k += 1\n",
    "            i += 1\n",
    "    return lst\n",
    "\n",
    "MergeSort([3,2,5,6,34,432,65,1,3,4,5,6,4,2,34])"
   ]
  },
  {
   "cell_type": "markdown",
   "metadata": {},
   "source": [
    "Quick Select"
   ]
  },
  {
   "cell_type": "code",
   "execution_count": 60,
   "metadata": {},
   "outputs": [],
   "source": [
    "import random\n",
    "def select(lst, k, left=None, right=None):\n",
    "    \"\"\"Return the k-th smallest element of list within left..right inclusive\"\"\"\n",
    "\n",
    "    assert(isinstance(k, int) and k >= 1 and k <= len(lst))\n",
    "\n",
    "    if left is None:\n",
    "        left = 0\n",
    "    if right is None:\n",
    "        right = len(lst)-1\n",
    "    \n",
    "    # if the list contains only one element, return that element\n",
    "    if left == right:\n",
    "        return lst[left]\n",
    "    \n",
    "    # select the element to be the pivot\n",
    "    pivot_index = random.randint(left, right)\n",
    "    \n",
    "    # partition the lst s.t. all the element smaller or equal to the pivot are to the left of the pivot\n",
    "    pivot_index = partition(lst, left, right, pivot_index)\n",
    "    \n",
    "    if k == pivot_index + 1:\n",
    "        return lst[pivot_index]\n",
    "    elif k < pivot_index + 1:\n",
    "        return select(lst, k, left, pivot_index-1)\n",
    "    else:\n",
    "        return select(lst, k, pivot_index+1, right)\n",
    "    \n",
    "def partition(lst, left, right, pivot_index):\n",
    "    pivot_value = lst[pivot_index]\n",
    "    \n",
    "    # move the pivot to the right\n",
    "    lst[pivot_index], lst[right] = lst[right], lst[pivot_index]\n",
    "    \n",
    "    store_index = left\n",
    "    for i in range(left, right):\n",
    "        if lst[i] < pivot_value:\n",
    "            lst[i], lst[store_index] = lst[store_index], lst[i]\n",
    "            store_index += 1\n",
    "    lst[store_index], lst[right] = lst[right], lst[store_index]\n",
    "    return store_index"
   ]
  },
  {
   "cell_type": "code",
   "execution_count": 67,
   "metadata": {},
   "outputs": [
    {
     "name": "stdout",
     "output_type": "stream",
     "text": [
      "the 1-th smallest element in lst is 0\n",
      "the 2-th smallest element in lst is 1\n",
      "the 3-th smallest element in lst is 2\n",
      "the 4-th smallest element in lst is 3\n",
      "the 5-th smallest element in lst is 4\n",
      "the 6-th smallest element in lst is 5\n",
      "the 7-th smallest element in lst is 6\n",
      "the 8-th smallest element in lst is 7\n",
      "the 9-th smallest element in lst is 8\n",
      "the 10-th smallest element in lst is 9\n"
     ]
    }
   ],
   "source": [
    "lst = [9, 8, 7, 6, 5, 4, 3, 2, 1, 0]\n",
    "for k in range(1, len(lst)+1):\n",
    "    print(f'the {k}-th smallest element in lst is {select(lst, k)}')"
   ]
  },
  {
   "cell_type": "markdown",
   "metadata": {},
   "source": [
    "215. Kth largest element in an array  \n",
    "Time Complexity $O(n^2)$"
   ]
  },
  {
   "cell_type": "code",
   "execution_count": 83,
   "metadata": {},
   "outputs": [
    {
     "name": "stdout",
     "output_type": "stream",
     "text": [
      "-------------------------------------\n",
      "pivot value: 7\n",
      "before partition: [10, 3, 4, 2, 10, 7, 4, 1, 5, 3]\n",
      "after partition: [10, 10, 7, 2, 3, 3, 4, 1, 5, 4]\n",
      "pivot_index: 2\n",
      "the pivot is too small, keep search in the larger subarray\n",
      "-------------------------------------\n",
      "-------------------------------------\n",
      "pivot value: 10\n",
      "before partition: [10, 10]\n",
      "after partition: [10, 10]\n",
      "pivot_index: 0\n",
      "\n",
      "\n",
      "The 1-th largest value in [10, 3, 4, 2, 10, 7, 4, 1, 5, 3] is 10\n",
      "\n",
      "\n",
      "-------------------------------------\n",
      "pivot value: 2\n",
      "before partition: [10, 3, 4, 2, 10, 7, 4, 1, 5, 3]\n",
      "after partition: [10, 3, 4, 3, 10, 7, 4, 5, 2, 1]\n",
      "pivot_index: 8\n",
      "the pivot is too small, keep search in the larger subarray\n",
      "-------------------------------------\n",
      "-------------------------------------\n",
      "pivot value: 4\n",
      "before partition: [10, 3, 4, 3, 10, 7, 4, 5]\n",
      "after partition: [10, 10, 7, 5, 4, 4, 3, 3]\n",
      "pivot_index: 4\n",
      "the pivot is too small, keep search in the larger subarray\n",
      "-------------------------------------\n",
      "-------------------------------------\n",
      "pivot value: 10\n",
      "before partition: [10, 10, 7, 5]\n",
      "after partition: [10, 5, 7, 10]\n",
      "pivot_index: 0\n",
      "the pivot is too large, keep search in the smaller subarray\n",
      "-------------------------------------\n",
      "-------------------------------------\n",
      "pivot value: 10\n",
      "before partition: [5, 7, 10]\n",
      "after partition: [10, 7, 5]\n",
      "pivot_index: 0\n",
      "\n",
      "\n",
      "The 2-th largest value in [10, 3, 4, 2, 10, 7, 4, 1, 5, 3] is 10\n",
      "\n",
      "\n"
     ]
    }
   ],
   "source": [
    "class Solution:\n",
    "    def findKthLargest(self, nums, k):\n",
    "        \"\"\"\n",
    "        :type nums: List[int]\n",
    "        :type k: int\n",
    "        :rtype: int\n",
    "        \"\"\"\n",
    "        assert(isinstance(k, int) and k >= 1 and k <= len(nums))\n",
    "        nums = nums[:]\n",
    "        import random\n",
    "        while True:\n",
    "            print('-------------------------------------')\n",
    "            pivot_index = random.randint(0, len(nums)-1)\n",
    "            print('pivot value: {}'.format(nums[pivot_index]))\n",
    "            print('before partition: {}'.format(nums))\n",
    "            pivot_index = self.partition(nums, pivot_index)\n",
    "            print('after partition: {}'.format(nums))\n",
    "            print('pivot_index: {}'.format(pivot_index))\n",
    "            if pivot_index + 1 == k:\n",
    "                return nums[pivot_index]\n",
    "            elif pivot_index + 1 > k:\n",
    "                print('the pivot is too small, keep search in the larger subarray')\n",
    "                nums = nums[:pivot_index]\n",
    "            else:\n",
    "                print('the pivot is too large, keep search in the smaller subarray')\n",
    "                nums = nums[pivot_index+1:]\n",
    "                k = k - (pivot_index + 1)\n",
    "            print('-------------------------------------')            \n",
    "            \n",
    "    def partition(self, nums, pivot_index):\n",
    "        \"\"\"move all the elements that are larger than the pivot value to the left to the pivot\"\"\"\n",
    "        pivot_value = nums[pivot_index]\n",
    "        # move the pivot to the end of \"nums\"\n",
    "        nums[pivot_index], nums[len(nums)-1] = nums[len(nums)-1], nums[pivot_index]\n",
    "        \n",
    "        store_index = 0\n",
    "        for k in range(len(nums)-1):\n",
    "            if nums[k] > pivot_value:\n",
    "                nums[k], nums[store_index] = nums[store_index], nums[k]\n",
    "                store_index += 1\n",
    "        nums[store_index], nums[len(nums)-1] = nums[len(nums)-1], nums[store_index]\n",
    "        return store_index\n",
    "    \n",
    "solution = Solution()\n",
    "lst = [random.randint(1, 10) for _ in range(10)]\n",
    "for k in range(1, 3):\n",
    "    print(f'\\n\\nThe {k}-th largest value in {lst} is {solution.findKthLargest(lst, k)}\\n\\n')"
   ]
  },
  {
   "cell_type": "code",
   "execution_count": 115,
   "metadata": {},
   "outputs": [],
   "source": [
    "class DisjointSet:\n",
    "\n",
    "    def __init__(self, n):\n",
    "        self._parents = [i for i in range(n+1)]\n",
    "        self._ranks = [1 for i in range(n+1)]\n",
    "        \n",
    "    def find(self, u):\n",
    "        if u != self._parents[u]:\n",
    "            self._parents[u] = self.find(self._parents[u])\n",
    "        return self._parents[u]\n",
    "    \n",
    "    def union(self, u, v):\n",
    "        ru = self.find(u)\n",
    "        rv = self.find(v)\n",
    "        if ru == rv:\n",
    "            return False\n",
    "        \n",
    "        if self._ranks[ru] < self._ranks[rv]:\n",
    "            self._parents[ru] = rv\n",
    "        elif self._ranks[ru] > self._ranks[rv]:\n",
    "            self._parents[rv] = ru\n",
    "        else:\n",
    "            self._parents[ru] = rv\n",
    "            self._ranks[rv] += 1\n",
    "        return True"
   ]
  },
  {
   "cell_type": "code",
   "execution_count": 149,
   "metadata": {},
   "outputs": [],
   "source": [
    "def NQueen(n):\n",
    "    solutions = []\n",
    "    def solve(partial_sol, j):\n",
    "        if j == n:\n",
    "            solutions.append(partial_sol[:])\n",
    "        if j < n:\n",
    "            for i in range(n):\n",
    "                partial_sol.append(i)\n",
    "                if isValid(partial_sol):\n",
    "                    solve(partial_sol, j+1)\n",
    "                partial_sol.pop()\n",
    "\n",
    "    def isValid(partial_sol):\n",
    "        n = len(partial_sol)\n",
    "        for j in range(n-1):\n",
    "            if partial_sol[n-1] == partial_sol[j] or partial_sol[n-1] == partial_sol[j] + (n-1) - j or partial_sol[n-1] == partial_sol[j] - (n-1) + j:\n",
    "                return False\n",
    "        return True\n",
    "\n",
    "    solve([], 0)\n",
    "    return solutions"
   ]
  },
  {
   "cell_type": "code",
   "execution_count": 150,
   "metadata": {},
   "outputs": [
    {
     "data": {
      "text/plain": [
       "92"
      ]
     },
     "execution_count": 150,
     "metadata": {},
     "output_type": "execute_result"
    }
   ],
   "source": [
    "len(NQueen(8))"
   ]
  },
  {
   "cell_type": "code",
   "execution_count": 151,
   "metadata": {},
   "outputs": [
    {
     "data": {
      "text/plain": [
       "0"
      ]
     },
     "execution_count": 151,
     "metadata": {},
     "output_type": "execute_result"
    }
   ],
   "source": [
    "1//2"
   ]
  },
  {
   "cell_type": "code",
   "execution_count": null,
   "metadata": {},
   "outputs": [],
   "source": []
  }
 ],
 "metadata": {
  "kernelspec": {
   "display_name": "Python 3",
   "language": "python",
   "name": "python3"
  },
  "language_info": {
   "codemirror_mode": {
    "name": "ipython",
    "version": 3
   },
   "file_extension": ".py",
   "mimetype": "text/x-python",
   "name": "python",
   "nbconvert_exporter": "python",
   "pygments_lexer": "ipython3",
   "version": "3.6.6"
  }
 },
 "nbformat": 4,
 "nbformat_minor": 2
}
